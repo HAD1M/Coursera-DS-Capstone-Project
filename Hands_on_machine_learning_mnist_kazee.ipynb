{
  "nbformat": 4,
  "nbformat_minor": 0,
  "metadata": {
    "colab": {
      "name": "Hands-on machine learning mnist kazee.ipynb",
      "version": "0.3.2",
      "provenance": [],
      "collapsed_sections": [],
      "include_colab_link": true
    },
    "kernelspec": {
      "name": "python3",
      "display_name": "Python 3"
    },
    "accelerator": "TPU"
  },
  "cells": [
    {
      "cell_type": "markdown",
      "metadata": {
        "id": "view-in-github",
        "colab_type": "text"
      },
      "source": [
        "<a href=\"https://colab.research.google.com/github/HAD1M/Coursera-DS-Capstone-Project/blob/master/Hands_on_machine_learning_mnist_kazee.ipynb\" target=\"_parent\"><img src=\"https://colab.research.google.com/assets/colab-badge.svg\" alt=\"Open In Colab\"/></a>"
      ]
    },
    {
      "cell_type": "markdown",
      "metadata": {
        "id": "qYgrBOW8C9Ok",
        "colab_type": "text"
      },
      "source": [
        "# Overview\n",
        "\n",
        "Pada contoh ini kita akan membuat model machine learning **mnist** menggunakan tf.keras dan Cloud TPU yang dapat mengklasifikasi gambar-gambar tulisan tangan berupa angka."
      ]
    },
    {
      "cell_type": "markdown",
      "metadata": {
        "id": "dysgwkh-DJZT",
        "colab_type": "text"
      },
      "source": [
        "## Inisiasi library"
      ]
    },
    {
      "cell_type": "code",
      "metadata": {
        "id": "Gz3h-YgqwEJ0",
        "colab_type": "code",
        "colab": {}
      },
      "source": [
        "import tensorflow as tf\n",
        "import numpy as np\n",
        "from matplotlib import pyplot as plt\n",
        "%matplotlib inline\n",
        "\n",
        "import os\n",
        "\n",
        "resolver = tf.contrib.cluster_resolver.TPUClusterResolver('grpc://' + os.environ['COLAB_TPU_ADDR'])\n",
        "tf.contrib.distribute.initialize_tpu_system(resolver)\n",
        "strategy = tf.contrib.distribute.TPUStrategy(resolver)"
      ],
      "execution_count": 0,
      "outputs": []
    },
    {
      "cell_type": "markdown",
      "metadata": {
        "id": "o6TmJ9NvDPXP",
        "colab_type": "text"
      },
      "source": [
        "## Load data yang digunakan untuk training model machine learning"
      ]
    },
    {
      "cell_type": "code",
      "metadata": {
        "id": "r6iBwHtKwIDo",
        "colab_type": "code",
        "colab": {}
      },
      "source": [
        "(x_train, y_train), (x_test, y_test) = tf.keras.datasets.mnist.load_data()"
      ],
      "execution_count": 0,
      "outputs": []
    },
    {
      "cell_type": "code",
      "metadata": {
        "id": "-Ggv0ePKHW5L",
        "colab_type": "code",
        "colab": {}
      },
      "source": [
        "print('Banyak data training : {}'.format(len(x_train)))\n",
        "print('Banyak data test : {}'.format(len(x_test)))"
      ],
      "execution_count": 0,
      "outputs": []
    },
    {
      "cell_type": "code",
      "metadata": {
        "id": "_OpltxSzwk6e",
        "colab_type": "code",
        "colab": {}
      },
      "source": [
        "LABEL_NAMES = {0 : '0', 1 : '1', 2 : '2', 3 : '3', 4 : '4', 5 : '5', 6 : '6', 7 : '7', 8 : '8', 9 : '9'}\n",
        "print(LABEL_NAMES)"
      ],
      "execution_count": 0,
      "outputs": []
    },
    {
      "cell_type": "markdown",
      "metadata": {
        "id": "bmRyCACfDXSm",
        "colab_type": "text"
      },
      "source": [
        "## Plot data training"
      ]
    },
    {
      "cell_type": "code",
      "metadata": {
        "id": "jfEotq4jwTw0",
        "colab_type": "code",
        "colab": {}
      },
      "source": [
        "##plot xtrain\n",
        "plt.figure(figsize=(18,12))\n",
        "for n, image in enumerate(x_train[:12]):\n",
        "  plt.subplot(3,4,n+1)\n",
        "  plt.imshow(image, cmap='gray')\n",
        "  plt.grid(False)\n",
        "  plt.axis('off')\n",
        "  plt.title(LABEL_NAMES.get(y_train[n]), fontsize=20)"
      ],
      "execution_count": 0,
      "outputs": []
    },
    {
      "cell_type": "markdown",
      "metadata": {
        "id": "S1GkX97sDe53",
        "colab_type": "text"
      },
      "source": [
        "## Plot data test"
      ]
    },
    {
      "cell_type": "code",
      "metadata": {
        "id": "t-XY9pT8AIhd",
        "colab_type": "code",
        "colab": {}
      },
      "source": [
        "##plot x test\n",
        "plt.figure(figsize=(18,12))\n",
        "for n, image in enumerate(x_test[:12]):\n",
        "  plt.subplot(3,4,n+1)\n",
        "  plt.imshow(image, cmap='gray')\n",
        "  plt.grid(False)\n",
        "  plt.axis('off')\n",
        "  plt.title(LABEL_NAMES.get(y_test[n]))"
      ],
      "execution_count": 0,
      "outputs": []
    },
    {
      "cell_type": "code",
      "metadata": {
        "id": "ejAcxJW3Ahj-",
        "colab_type": "code",
        "colab": {}
      },
      "source": [
        "# mengubah bentuk input\n",
        "x_train = x_train.reshape(x_train.shape[0], 28, 28, 1).astype('float32')\n",
        "x_test = x_test.reshape(x_test.shape[0], 28, 28, 1).astype('float32')"
      ],
      "execution_count": 0,
      "outputs": []
    },
    {
      "cell_type": "markdown",
      "metadata": {
        "id": "Kjq60Ks4Dq2K",
        "colab_type": "text"
      },
      "source": [
        "## Membuat model"
      ]
    },
    {
      "cell_type": "code",
      "metadata": {
        "id": "gDYUAiQGAkHB",
        "colab_type": "code",
        "colab": {}
      },
      "source": [
        "def create_model():\n",
        "  model = tf.keras.models.Sequential()\n",
        "  model.add(tf.keras.layers.BatchNormalization(input_shape=x_train.shape[1:]))\n",
        "  model.add(tf.keras.layers.Conv2D(64, (5, 5), padding='same', activation='elu'))\n",
        "  model.add(tf.keras.layers.MaxPooling2D(pool_size=(2, 2), strides=(2,2)))\n",
        "  model.add(tf.keras.layers.Dropout(0.25))\n",
        "\n",
        "  model.add(tf.keras.layers.BatchNormalization(input_shape=x_train.shape[1:]))\n",
        "  model.add(tf.keras.layers.Conv2D(128, (5, 5), padding='same', activation='elu'))\n",
        "  model.add(tf.keras.layers.MaxPooling2D(pool_size=(2, 2)))\n",
        "  model.add(tf.keras.layers.Dropout(0.25))\n",
        "\n",
        "  model.add(tf.keras.layers.BatchNormalization(input_shape=x_train.shape[1:]))\n",
        "  model.add(tf.keras.layers.Conv2D(256, (5, 5), padding='same', activation='elu'))\n",
        "  model.add(tf.keras.layers.MaxPooling2D(pool_size=(2, 2), strides=(2,2)))\n",
        "  model.add(tf.keras.layers.Dropout(0.25))\n",
        "\n",
        "  model.add(tf.keras.layers.Flatten())\n",
        "  model.add(tf.keras.layers.Dense(256))\n",
        "  model.add(tf.keras.layers.Activation('elu'))\n",
        "  model.add(tf.keras.layers.Dropout(0.5))\n",
        "  model.add(tf.keras.layers.Dense(10))\n",
        "  model.add(tf.keras.layers.Activation('softmax'))\n",
        "  return model"
      ],
      "execution_count": 0,
      "outputs": []
    },
    {
      "cell_type": "code",
      "metadata": {
        "id": "xqiOO5J1An66",
        "colab_type": "code",
        "colab": {}
      },
      "source": [
        "with strategy.scope():\n",
        "  model = create_model()\n",
        "  model.compile(\n",
        "      optimizer=tf.keras.optimizers.Adam(learning_rate=1e-3, ),\n",
        "      loss='sparse_categorical_crossentropy',\n",
        "      metrics=['sparse_categorical_accuracy'])"
      ],
      "execution_count": 0,
      "outputs": []
    },
    {
      "cell_type": "markdown",
      "metadata": {
        "id": "ZwPp2uKjDuy2",
        "colab_type": "text"
      },
      "source": [
        "## Training model"
      ]
    },
    {
      "cell_type": "code",
      "metadata": {
        "id": "sqD0vIxDAqiz",
        "colab_type": "code",
        "colab": {}
      },
      "source": [
        "model.fit(\n",
        "    x_train.astype(np.float32), y_train.astype(np.float32),\n",
        "    epochs=17,\n",
        "    steps_per_epoch=60,\n",
        "    validation_data=(x_test.astype(np.float32), y_test.astype(np.float32)),\n",
        "    validation_freq=17\n",
        ")\n",
        "\n",
        "# save model\n",
        "model.save_weights('./mnist.h5', overwrite=True)"
      ],
      "execution_count": 0,
      "outputs": []
    },
    {
      "cell_type": "markdown",
      "metadata": {
        "id": "X8tA4FybD4l0",
        "colab_type": "text"
      },
      "source": [
        "## Prediksi"
      ]
    },
    {
      "cell_type": "code",
      "metadata": {
        "id": "Cv_lz3jwAwfV",
        "colab_type": "code",
        "colab": {}
      },
      "source": [
        "# load model yang sudah ditraining\n",
        "cpu_model = create_model()\n",
        "cpu_model.load_weights('./mnist.h5')"
      ],
      "execution_count": 0,
      "outputs": []
    },
    {
      "cell_type": "code",
      "metadata": {
        "id": "5USVmk9EAzBJ",
        "colab_type": "code",
        "colab": {}
      },
      "source": [
        "# prediksi 12 gambar pada data test\n",
        "predictions = cpu_model.predict(x_test[:12])"
      ],
      "execution_count": 0,
      "outputs": []
    },
    {
      "cell_type": "code",
      "metadata": {
        "id": "a8pLrZVFAst4",
        "colab_type": "code",
        "colab": {}
      },
      "source": [
        "# contoh output prediksi model machine learning\n",
        "print(predictions[0])"
      ],
      "execution_count": 0,
      "outputs": []
    },
    {
      "cell_type": "markdown",
      "metadata": {
        "id": "8wx7uHaSD_JP",
        "colab_type": "text"
      },
      "source": [
        "## Plot hasil prediksi"
      ]
    },
    {
      "cell_type": "code",
      "metadata": {
        "id": "yRpc86mdA6b4",
        "colab_type": "code",
        "colab": {}
      },
      "source": [
        "plt.figure(figsize=(18,12))\n",
        "for n, image in enumerate(np.squeeze(x_test[:12])):\n",
        "  plt.subplot(3,4,n+1)\n",
        "  plt.imshow(image)\n",
        "  plt.grid(False)\n",
        "  plt.axis('off')\n",
        "  plt.title('{}, conf_score : {:.3}'.format(LABEL_NAMES.get(np.argmax(predictions[n])), np.max(predictions[n])) )"
      ],
      "execution_count": 0,
      "outputs": []
    }
  ]
}